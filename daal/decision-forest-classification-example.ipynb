{
 "cells": [
  {
   "cell_type": "markdown",
   "metadata": {},
   "source": [
    "# Decision Forest Classification and Regression with Intel® Data Analytics Acceleration Library in Amazon SageMaker\n",
    "\n",
    "## Introduction\n",
    "\n",
    "Intel® Data Analytics Acceleration Library (Intel® DAAL) is the library of Intel® architecture optimized building blocks covering all stages of data analytics: data acquisition from a data source, preprocessing, transformation, data mining, modeling, validation, and decision making. One of its algorithms is Decision Forest.\n",
    "\n",
    "The library provides decision forest classification and regression algorithms based on an ensemble of tree-structured classifiers (decision trees) built using the general technique of bootstrap aggregation (bagging) and random choice of features. Decision tree is a binary tree graph. Its internal (split) nodes represent a decision function used to select the following (child) node at the prediction stage. Its leaf (terminal) nodes represent the corresponding response values, which are the result of the prediction from the tree.\n",
    "\n",
    "Intel® DAAL developer guide: https://software.intel.com/en-us/daal-programming-guide\n",
    "\n",
    "Intel® DAAL documentation for Decision Forest: https://software.intel.com/en-us/daal-programming-guide-decision-forest"
   ]
  },
  {
   "cell_type": "markdown",
   "metadata": {},
   "source": [
    "## Decision Forest Usage with SageMaker Estimator\n",
    "Firstly, you need to import SageMaker package, get execution role and create session."
   ]
  },
  {
   "cell_type": "code",
   "execution_count": 1,
   "metadata": {},
   "outputs": [],
   "source": [
    "import sagemaker\n",
    "\n",
    "role = sagemaker.get_execution_role()\n",
    "sess = sagemaker.Session()"
   ]
  },
  {
   "cell_type": "markdown",
   "metadata": {},
   "source": [
    "Secondly, you can specify parameters of Decision Forest.\n",
    "#### Hyperparameters\n",
    "<table style=\"border: 1px solid black;\">\n",
    "    <tr>\n",
    "        <td><strong>Parameter name</strong></td>\n",
    "        <td><strong>Type</strong></td>\n",
    "        <td><strong>Default value</strong></td>\n",
    "        <td><strong>Description</strong></td>\n",
    "    </tr>\n",
    "    <tr>\n",
    "        <td>nClasses</td>\n",
    "        <td>int</td>\n",
    "        <td>3</td>\n",
    "        <td>Number of classes in data (only for classification)</td>\n",
    "    </tr>\n",
    "    <tr>\n",
    "        <td>fptype</td>\n",
    "        <td>str</td>\n",
    "        <td>\"double\"</td>\n",
    "        <td>The floating-point type that the algorithm uses for intermediate computations. Can be \"float\" or \"double\"</td>\n",
    "    </tr>\n",
    "    <tr>\n",
    "        <td>method</td>\n",
    "        <td>str</td>\n",
    "        <td>\"defaultDense\"</td>\n",
    "        <td>The only training method supported so far is the default dense method</td>\n",
    "    </tr>\n",
    "    <tr>\n",
    "        <td>nTrees</td>\n",
    "        <td>int</td>\n",
    "        <td>100</td>\n",
    "        <td>The number of trees in the forest</td>\n",
    "    </tr>\n",
    "    <tr>\n",
    "        <td>observationsPerTreeFraction</td>\n",
    "        <td>int</td>\n",
    "        <td>1</td>\n",
    "        <td>Fraction of the training set S used to form the bootstrap set for a single tree training, observationsPerTreeFraction in (0, 1]. The observations are sampled randomly with replacement</td>\n",
    "    </tr>\n",
    "    <tr>\n",
    "        <td>featuresPerNode</td>\n",
    "        <td>int</td>\n",
    "        <td>0</td>\n",
    "        <td>The number of features tried as possible splits per node. If the parameter is set to 0, the library uses the square root of the number of features for classification and (the number of features)/3 for regression</td>\n",
    "    </tr>\n",
    "    <tr>\n",
    "        <td>maxTreeDepth</td>\n",
    "        <td>int</td>\n",
    "        <td>0</td>\n",
    "        <td>Maximal tree depth. Default is 0 (unlimited).</td>\n",
    "    </tr>\n",
    "    <tr>\n",
    "        <td>minObservationsInLeafNode</td>\n",
    "        <td>int</td>\n",
    "        <td>1 for classification, 5 for regression</td>\n",
    "        <td>The number of neighbors</td>\n",
    "    </tr>\n",
    "    <tr>\n",
    "        <td>seed</td>\n",
    "        <td>int</td>\n",
    "        <td>777</td>\n",
    "        <td>The seed for random number generator, which is used to choose the bootstrap set, split features in every split node in a tree, and generate permutation required in computations of MDA variable importance</td>\n",
    "    </tr>\n",
    "    <tr>\n",
    "        <td>impurityThreshold</td>\n",
    "        <td>float</td>\n",
    "        <td>0</td>\n",
    "        <td>The threshold value used as stopping criteria: if the impurity value in the node is smaller than the threshold, the node is not split anymore</td>\n",
    "    </tr>\n",
    "    <tr>\n",
    "        <td>varImportance</td>\n",
    "        <td>str</td>\n",
    "        <td>None</td>\n",
    "        <td>The variable importance computation mode. Possible values:<br/>none – variable importance is not calculated<br/>MDI - Mean Decrease of Impurity, also known as the Gini importance or Mean Decrease Gini<br/>MDA_Raw - Mean Decrease of Accuracy (permutation importance)<br/>MDA_Scaled - the MDA_Raw value scaled by its standard deviation</td>\n",
    "    </tr>\n",
    "    <tr>\n",
    "        <td>resultsToCompute</td>\n",
    "        <td>str</td>\n",
    "        <td>\"computeOutOfBagError|computeOutOfBagErrorPerObservation\"</td>\n",
    "        <td>Provide one of the following values to request a single characteristic or use bitwise OR to request a combination of the characteristics:<br/>computeOutOfBagError, computeOutOfBagErrorPerObservation</td>\n",
    "    </tr>\n",
    "    <tr>\n",
    "        <td>memorySavingMode</td>\n",
    "        <td>bool</td>\n",
    "        <td>False</td>\n",
    "        <td>If True, memory saving mode is enabled</td>\n",
    "    </tr>\n",
    "    <tr>\n",
    "        <td>bootstrap</td>\n",
    "        <td>bool</td>\n",
    "        <td>False for classification, True for regression</td>\n",
    "        <td>If True, bootstrap is enabled</td>\n",
    "    </tr>\n",
    "</table>\n",
    "\n",
    "Example of hyperparameters dictionary:"
   ]
  },
  {
   "cell_type": "code",
   "execution_count": 2,
   "metadata": {},
   "outputs": [],
   "source": [
    "decision_forest_params = {\n",
    "    \"nClasses\": 3,\n",
    "    \"fptype\":\"double\",\n",
    "    \"method\":\"defaultDense\",\n",
    "    \"nTrees\":\"100\",\n",
    "    \"observationsPerTreeFraction\":\"1\",\n",
    "    \"featuresPerNode\":\"0\",\n",
    "    \"maxTreeDepth\":\"0\",\n",
    "    \"minObservationsInLeafNode\":\"1\",\n",
    "    \"seed\":\"777\",\n",
    "    \"impurityThreshold\":\"0\",\n",
    "    \"varImportance\":\"None\",\n",
    "    \"resultsToCompute\":\"0\",\n",
    "    \"memorySavingMode\":\"False\",\n",
    "    \"bootstrap\":\"False\",\n",
    "    \"distributed\":\"False\"\n",
    "}"
   ]
  },
  {
   "cell_type": "markdown",
   "metadata": {},
   "source": [
    "Then, you need to create SageMaker Estimator instance with following parameters:\n",
    "<table style=\"border: 1px solid black;\">\n",
    "    <tr>\n",
    "        <td><strong>Parameter name</strong></td>\n",
    "        <td><strong>Description</strong></td>\n",
    "    </tr>\n",
    "    <tr>\n",
    "        <td>image_name</td>\n",
    "        <td>The container image to use for training</td>\n",
    "    </tr>\n",
    "    <tr>\n",
    "        <td>role</td>\n",
    "        <td>An AWS IAM role. The SageMaker training jobs and APIs that create SageMaker endpoints use this role to access training data and models</td>\n",
    "    </tr>\n",
    "    <tr>\n",
    "        <td>train_instance_count</td>\n",
    "        <td>Number of Amazon EC2 instances to use for training. Should be 1, because it is not distributed version of algorithm</td>\n",
    "    </tr>\n",
    "    <tr>\n",
    "        <td>train_instance_type</td>\n",
    "        <td>Type of EC2 instance to use for training. See available types on Amazon Marketplace page of algorithm</td>\n",
    "    </tr>\n",
    "    <tr>\n",
    "        <td>input_mode</td>\n",
    "        <td>The input mode that the algorithm supports. May be \"File\" or \"Pipe\"</td>\n",
    "    </tr>\n",
    "    <tr>\n",
    "        <td>output_path</td>\n",
    "        <td>S3 location for saving the trainig result (model artifacts and output files)</td>\n",
    "    </tr>\n",
    "    <tr>\n",
    "        <td>sagemaker_session</td>\n",
    "        <td>Session object which manages interactions with Amazon SageMaker APIs and any other AWS services needed</td>\n",
    "    </tr>\n",
    "    <tr>\n",
    "        <td>hyperparameters</td>\n",
    "        <td>Dictionary containing the hyperparameters to initialize this estimator with</td>\n",
    "    </tr>\n",
    "</table>\n",
    "Full SageMaker Estimator documentation: https://sagemaker.readthedocs.io/en/latest/estimators.html"
   ]
  },
  {
   "cell_type": "code",
   "execution_count": 9,
   "metadata": {},
   "outputs": [],
   "source": [
    "daal_decision_forest_arn = \"<algorithm-arn>\" # you can find it on algorithm page in your subscriptions\n",
    "\n",
    "daal_decision_forest = sagemaker.algorithm.AlgorithmEstimator(\n",
    "    algorithm_arn=daal_decision_forest_arn,\n",
    "    role=role,\n",
    "    base_job_name=\"<base-job-name>\",\n",
    "    train_instance_count=1,\n",
    "    train_instance_type='ml.m4.xlarge',\n",
    "    input_mode=\"File\",\n",
    "    output_path=\"s3://<bucket-name>/<output-path>\",\n",
    "    sagemaker_session=sess,\n",
    "    hyperparameters=decision_forest_params\n",
    ")"
   ]
  },
  {
   "cell_type": "markdown",
   "metadata": {},
   "source": [
    "### Training stage\n",
    "On training stage, Decision Forest algorithm consume input data from S3 location.\n",
    "This container supports only .csv (\"comma-separated values\") files."
   ]
  },
  {
   "cell_type": "code",
   "execution_count": null,
   "metadata": {
    "scrolled": false
   },
   "outputs": [],
   "source": [
    "daal_decision_forest.fit({\"training\": \"s3://<bucket-name>/<training-data-path>\"})"
   ]
  },
  {
   "cell_type": "markdown",
   "metadata": {},
   "source": [
    "### Real-time prediction\n",
    "Firstly, you need to deploy SageMaker endpoint that consumes data."
   ]
  },
  {
   "cell_type": "code",
   "execution_count": null,
   "metadata": {
    "scrolled": true
   },
   "outputs": [],
   "source": [
    "predictor = daal_decision_forest.deploy(1, \"ml.m4.xlarge\", serializer=sagemaker.predictor.csv_serializer)"
   ]
  },
  {
   "cell_type": "markdown",
   "metadata": {},
   "source": [
    "Secondly, you should pass data as numpy array to predictor instance and get transformed data as space-separated values.\n",
    "\n",
    "In this example we are passing random data, but you can use any numpy 2D array"
   ]
  },
  {
   "cell_type": "code",
   "execution_count": null,
   "metadata": {},
   "outputs": [],
   "source": [
    "import numpy as np\n",
    "\n",
    "predict_data = np.random.random(size=(10,10))\n",
    "print(predictor.predict(predict_data).decode(\"utf-8\"))"
   ]
  },
  {
   "cell_type": "markdown",
   "metadata": {},
   "source": [
    "Don't forget to delete endpoint if you don't need it anymore."
   ]
  },
  {
   "cell_type": "code",
   "execution_count": null,
   "metadata": {},
   "outputs": [],
   "source": [
    "sess.delete_endpoint(predictor.endpoint)"
   ]
  },
  {
   "cell_type": "markdown",
   "metadata": {},
   "source": [
    "### Batch transform job\n",
    "If you don't need real-time prediction, you can use transform job. It uses saved model, compute transformed data one time and saves it in specified or auto-generated output path.\n",
    "\n",
    "More about transform jobs: https://docs.aws.amazon.com/sagemaker/latest/dg/how-it-works-batch.html\n",
    "\n",
    "Transformer API: https://sagemaker.readthedocs.io/en/latest/transformer.html"
   ]
  },
  {
   "cell_type": "code",
   "execution_count": null,
   "metadata": {},
   "outputs": [],
   "source": [
    "transformer = daal_decision_forest.transformer(1, 'ml.m4.xlarge')\n",
    "transformer.transform(\"s3://<bucket-name>/<prediction-data-path>\", content_type='text/csv')\n",
    "transformer.wait()\n",
    "print(transformer.output_path)"
   ]
  }
 ],
 "metadata": {
  "kernelspec": {
   "display_name": "Python 2",
   "language": "python",
   "name": "python2"
  },
  "language_info": {
   "codemirror_mode": {
    "name": "ipython",
    "version": 2
   },
   "file_extension": ".py",
   "mimetype": "text/x-python",
   "name": "python",
   "nbconvert_exporter": "python",
   "pygments_lexer": "ipython2",
   "version": "2.7.15"
  }
 },
 "nbformat": 4,
 "nbformat_minor": 2
}
